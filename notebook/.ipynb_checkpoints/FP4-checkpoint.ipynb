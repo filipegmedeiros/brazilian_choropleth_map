{
 "cells": [
  {
   "cell_type": "markdown",
   "metadata": {
    "id": "LjgFyrbkRvOR"
   },
   "source": [
    "# Importação e Carregamento dos DataFrames"
   ]
  },
  {
   "cell_type": "code",
   "execution_count": null,
   "metadata": {
    "id": "XVIKOULl-Fna"
   },
   "outputs": [],
   "source": [
    "import os.path\n",
    "import sys, json\n",
    "import requests\n",
    "import subprocess\n",
    "\n",
    "import numpy as np\n",
    "import pandas as pd\n",
    "import plotly.express as px\n",
    "\n",
    "from requests.exceptions import RequestException\n",
    "from requests.adapters import HTTPAdapter\n",
    "from requests.packages.urllib3.util.retry import Retry\n",
    "\n",
    "from collections import namedtuple"
   ]
  },
  {
   "cell_type": "code",
   "execution_count": null,
   "metadata": {
    "id": "oFpDjYII-AdJ"
   },
   "outputs": [],
   "source": [
    "geojson = json.load(open('../geojson/brasil_estados.json'))"
   ]
  },
  {
   "cell_type": "code",
   "execution_count": null,
   "metadata": {
    "id": "TcI-WrTf_6V-"
   },
   "outputs": [],
   "source": [
    "df = pd.read_csv('../dataset/amazonia_legal.csv', encoding='latin1')"
   ]
  },
  {
   "cell_type": "markdown",
   "metadata": {
    "id": "cdU7_H1_SL9X"
   },
   "source": [
    "# Pré-processamento"
   ]
  },
  {
   "cell_type": "code",
   "execution_count": null,
   "metadata": {
    "id": "l2ojADsDG-bO"
   },
   "outputs": [],
   "source": [
    "estados_sigla = {\n",
    "    'Acre': 'AC',\n",
    "    'Alagoas': 'AL',\n",
    "    'Amapa': 'AP',\n",
    "    'Amazonas': 'AM',\n",
    "    'Bahia': 'BA',\n",
    "    'Ceara': 'CE',\n",
    "    'Distrito Federal': 'DF',\n",
    "    'Espirito Santo': 'ES',\n",
    "    'Goias': 'GO',\n",
    "    'Maranhao': 'MA',\n",
    "    'Mato Grosso': 'MT',\n",
    "    'Mato Grosso do Sul': 'MS',\n",
    "    'Minas Gerais': 'MG',\n",
    "    'Pará': 'PA',\n",
    "    'Paraiba': 'PB',\n",
    "    'Parana': 'PR',\n",
    "    'Pernambuco': 'PE',\n",
    "    'Piaui': 'PI',\n",
    "    'Rio de Janeiro': 'RJ',\n",
    "    'Rio Grande do Norte': 'RN',\n",
    "    'Rio Grande do Sul': 'RS',\n",
    "    'Rondonia': 'RO',\n",
    "    'Roraima': 'RR',\n",
    "    'Santa Catarina': 'SC',\n",
    "    'Sao Paulo': 'SP',\n",
    "    'Sergipe': 'SE',\n",
    "    'Tocantins': 'TO'\n",
    "}\n",
    "df['estados'] = df.state.map(estados_sigla)"
   ]
  },
  {
   "cell_type": "code",
   "execution_count": null,
   "metadata": {
    "id": "ZX-DgMUxPpu4"
   },
   "outputs": [],
   "source": [
    "df.rename(columns={'number':'queimadas'}, inplace=True)"
   ]
  },
  {
   "cell_type": "markdown",
   "metadata": {
    "id": "d2bh-MyRSRRk"
   },
   "source": [
    "# Agrupando os estados e somando as quantidades de Queimadas"
   ]
  },
  {
   "cell_type": "code",
   "execution_count": null,
   "metadata": {
    "id": "SaYfzNb6HShs"
   },
   "outputs": [],
   "source": [
    "fogo = df[['estados','queimadas']].groupby('estados').sum().reset_index()"
   ]
  },
  {
   "cell_type": "markdown",
   "metadata": {
    "id": "T8eEJlxCSZBP"
   },
   "source": [
    "# Gráficos"
   ]
  },
  {
   "cell_type": "markdown",
   "metadata": {
    "id": "zAkTXHY3SafR"
   },
   "source": [
    "## Gráfico em Barra"
   ]
  },
  {
   "cell_type": "code",
   "execution_count": null,
   "metadata": {
    "id": "8_2DNKdbLxwu"
   },
   "outputs": [],
   "source": [
    "fig_bar = px.bar(fogo, y='queimadas', x='estados',text='queimadas',\n",
    "             color='queimadas',color_continuous_scale = 'Reds')          \n",
    "\n",
    "fig_bar.update_traces(texttemplate='%{text:.2s %}', textposition='outside')\n",
    "fig_bar.update_layout(uniformtext_minsize=8, uniformtext_mode='hide')\n",
    "fig_bar.update_layout(xaxis={'categoryorder':'total ascending'})\n",
    "\n",
    "fig_bar.show()"
   ]
  },
  {
   "cell_type": "markdown",
   "metadata": {
    "id": "GHWuF8D1SccA"
   },
   "source": [
    "## Gráfico Cloropleth usando geojson"
   ]
  },
  {
   "cell_type": "code",
   "execution_count": null,
   "metadata": {
    "id": "2JmQDb2rOreE"
   },
   "outputs": [],
   "source": [
    "fig_choropleth = px.choropleth(fogo, geojson=geojson, locations='estados', color='queimadas',\n",
    "                           color_continuous_scale=\"Reds\",\n",
    "                           range_color=(3000, 99999),\n",
    "                            scope='south america'\n",
    "                          )\n",
    "fig_choropleth.show()"
   ]
  },
  {
   "cell_type": "code",
   "execution_count": null,
   "metadata": {
    "id": "qBn2zld4YhTM"
   },
   "outputs": [],
   "source": [
    "estados = ['RN','AC', 'AL','AP','AM',\n",
    "                     'CE','DF','ES','GO','MA',\n",
    "                     'MT','MS','MG','PA','PB',\n",
    "                     'PR','PE','PI','RJ','RS',\n",
    "                     'RO','BA','RR','SC','SP',\n",
    "                     'SE','TO']\n",
    "                     \n",
    "dados = {'estados':  estados,\n",
    "        'queimadas': [1,0,0,0,0,\n",
    "                      0,0,0,0,0,\n",
    "                      0,0,0,0,0,\n",
    "                      0,0,0,0,0,\n",
    "                      0,0,0,0,0,\n",
    "                      0,0]\n",
    "        }\n",
    "amor = pd.DataFrame (dados, columns = ['estados','queimadas'])"
   ]
  },
  {
   "cell_type": "code",
   "execution_count": null,
   "metadata": {
    "colab": {
     "base_uri": "https://localhost:8080/",
     "height": 542
    },
    "id": "kFIh6HOtYcuC",
    "outputId": "6f81a341-6559-4f8d-9452-3223698310c3"
   },
   "outputs": [],
   "source": [
    "## Gráfico do Titulo\n",
    "\n",
    "fig_choropleth = px.choropleth(amor, geojson=geojson,\n",
    "                               locations='estados',\n",
    "                               color='queimadas',\n",
    "                               range_color=(0, 1),\n",
    "                               hover_data = ['estados'],\n",
    "                               scope='south america'\n",
    "                          )\n",
    "fig_choropleth.show()"
   ]
  },
  {
   "cell_type": "markdown",
   "metadata": {
    "id": "yTcrKATsSkdJ"
   },
   "source": [
    "# Dash App"
   ]
  },
  {
   "cell_type": "markdown",
   "metadata": {
    "id": "GhYfw9KmS7HF"
   },
   "source": [
    "## Configurando ngrok"
   ]
  },
  {
   "cell_type": "code",
   "execution_count": null,
   "metadata": {
    "id": "g308TaIKS9av"
   },
   "outputs": [],
   "source": [
    "def download_ngrok():\n",
    "    if not os.path.isfile('ngrok'):\n",
    "        !wget https://bin.equinox.io/c/4VmDzA7iaHb/ngrok-stable-linux-amd64.zip\n",
    "        !unzip -o ngrok-stable-linux-amd64.zip\n",
    "    pass"
   ]
  },
  {
   "cell_type": "code",
   "execution_count": null,
   "metadata": {
    "id": "f7E_BhZQTAMJ"
   },
   "outputs": [],
   "source": [
    "Response = namedtuple('Response', ['url', 'error'])\n",
    "\n",
    "def get_tunnel():\n",
    "    try:\n",
    "        Tunnel = subprocess.Popen(['./ngrok','http','8050'])\n",
    "\n",
    "        session = requests.Session()\n",
    "        retry = Retry(connect=3, backoff_factor=0.5)\n",
    "        adapter = HTTPAdapter(max_retries=retry)\n",
    "        session.mount('http://', adapter)\n",
    "\n",
    "        res = session.get('http://localhost:4040/api/tunnels')\n",
    "        res.raise_for_status()\n",
    "\n",
    "        tunnel_str = res.text\n",
    "        tunnel_cfg = json.loads(tunnel_str)\n",
    "        tunnel_url = tunnel_cfg['tunnels'][0]['public_url']\n",
    "\n",
    "        return Response(url=tunnel_url, error=None)\n",
    "    except RequestException as e:\n",
    "        return Response(url=None, error=str(e))"
   ]
  },
  {
   "cell_type": "markdown",
   "metadata": {
    "id": "ULh8sqMNTGS8"
   },
   "source": [
    "## Dash App"
   ]
  },
  {
   "cell_type": "code",
   "execution_count": null,
   "metadata": {
    "id": "3dppsavETF5g"
   },
   "outputs": [],
   "source": [
    "%%writefile my_dash_app.py\n",
    "import dash\n",
    "import dash_core_components as dcc\n",
    "import dash_html_components as html\n",
    "import plotly.express as px\n",
    "import pandas as pd\n",
    "import json\n",
    "\n",
    "external_stylesheets = ['https://codepen.io/chriddyp/pen/bWLwgP.css']\n",
    "\n",
    "app = dash.Dash(__name__, external_stylesheets=external_stylesheets)\n",
    "\n",
    "\n",
    "## Carregamento dos DataFrames\n",
    "geojson = json.load(open('../geojson/brasil_estados.json'))\n",
    "df = pd.read_csv('../dataset/amazonia_legal.csv', encoding='latin1')\n",
    "\n",
    "# Pré-Processamento\n",
    "estados_sigla = {\n",
    "    'Acre': 'AC',\n",
    "    'Alagoas': 'AL',\n",
    "    'Amapa': 'AP',\n",
    "    'Amazonas': 'AM',\n",
    "    'Bahia': 'BA',\n",
    "    'Ceara': 'CE',\n",
    "    'Distrito Federal': 'DF',\n",
    "    'Espirito Santo': 'ES',\n",
    "    'Goias': 'GO',\n",
    "    'Maranhao': 'MA',\n",
    "    'Mato Grosso': 'MT',\n",
    "    'Mato Grosso do Sul': 'MS',\n",
    "    'Minas Gerais': 'MG',\n",
    "    'Pará': 'PA',\n",
    "    'Paraiba': 'PB',\n",
    "    'Parana': 'PR',\n",
    "    'Pernambuco': 'PE',\n",
    "    'Piaui': 'PI',\n",
    "    'Rio de Janeiro': 'RJ',\n",
    "    'Rio Grande do Norte': 'RN',\n",
    "    'Rio Grande do Sul': 'RS',\n",
    "    'Rondonia': 'RO',\n",
    "    'Roraima': 'RR',\n",
    "    'Santa Catarina': 'SC',\n",
    "    'Sao Paulo': 'SP',\n",
    "    'Sergipe': 'SE',\n",
    "    'Tocantins': 'TO'\n",
    "}\n",
    "df['estados'] = df.state.map(estados_sigla)\n",
    "df.rename(columns={'number':'queimadas'}, inplace=True)\n",
    "\n",
    "## Agrupando os estados e somando a quantiade de queimadas\n",
    "fogo = df[['estados','queimadas']].groupby('estados').sum().reset_index()\n",
    "\n",
    "\n",
    "## Gráfico de Barra\n",
    "fig_bar = px.bar(fogo, y='queimadas', x='estados',text='queimadas',\n",
    "             color='queimadas',color_continuous_scale = 'Reds')          \n",
    "\n",
    "fig_bar.update_traces(texttemplate='%{text:.2s %}', textposition='outside')\n",
    "fig_bar.update_layout(uniformtext_minsize=8, uniformtext_mode='hide')\n",
    "fig_bar.update_layout(xaxis={'categoryorder':'total ascending'})\n",
    "\n",
    "## Gráfico do Choropleth\n",
    "fig_choropleth = px.choropleth(fogo, geojson=geojson, locations='estados', color='queimadas',\n",
    "                           color_continuous_scale=\"Reds\",\n",
    "                           range_color=(3000, 99999),\n",
    "                            scope='south america'\n",
    "                          )\n",
    "\n",
    "app.layout = html.Div([\n",
    "    html.H1(children='Quantidade de Queimadas na Amazonia Legal'),\n",
    "\n",
    "    html.Div(children='''\n",
    "        A Amazônia legal compreende os estados do Acre, Amapá, Pará, Amazonas, Rondônia, Roraima e parte do Mato Grosso, Tocantins e Maranhão.\n",
    "    '''),\n",
    "        html.Div(children='''\n",
    "        Os dados são de 1998 a 2017, obtidos pelo dataframe no Kaggle (forest-fires-in-brazil) \n",
    "    '''),\n",
    "\n",
    "    dcc.Graph(\n",
    "        id='Bar',\n",
    "        figure=fig_bar\n",
    "    ),\n",
    "        dcc.Graph(\n",
    "        id='Choropleth',\n",
    "        figure=fig_choropleth\n",
    "    )\n",
    "])\n",
    "\n",
    "if __name__ == '__main__':\n",
    "    app.run_server(debug=True, use_reloader=False)"
   ]
  },
  {
   "cell_type": "code",
   "execution_count": null,
   "metadata": {
    "id": "gS6ygbvVTo3q"
   },
   "outputs": [],
   "source": [
    "# Baixando o my_dash_app.py\n",
    "download_ngrok()"
   ]
  },
  {
   "cell_type": "markdown",
   "metadata": {
    "id": "Qyf876wUTym_"
   },
   "source": [
    "## Subindo servidor tunelado"
   ]
  },
  {
   "cell_type": "code",
   "execution_count": null,
   "metadata": {
    "id": "888XjaLHT1_w",
    "pycharm": {
     "name": "#%%\n"
    }
   },
   "outputs": [],
   "source": [
    "retorno = get_tunnel()\n",
    "print(retorno)\n",
    "!python my_dash_app.py"
   ]
  }
 ],
 "metadata": {
  "colab": {
   "name": "FP4.ipynb",
   "provenance": []
  },
  "kernelspec": {
   "display_name": "Python 3",
   "language": "python",
   "name": "python3"
  },
  "language_info": {
   "codemirror_mode": {
    "name": "ipython",
    "version": 3
   },
   "file_extension": ".py",
   "mimetype": "text/x-python",
   "name": "python",
   "nbconvert_exporter": "python",
   "pygments_lexer": "ipython3",
   "version": "3.8.6"
  }
 },
 "nbformat": 4,
 "nbformat_minor": 1
}
